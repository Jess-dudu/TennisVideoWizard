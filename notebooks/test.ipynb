{
 "cells": [
  {
   "cell_type": "code",
   "execution_count": null,
   "metadata": {},
   "outputs": [],
   "source": [
    "## The usual imports\n",
    "import torch\n",
    "import torch.nn as nn\n",
    "\n",
    "## print out the pytorch version used\n",
    "print(torch.__version__)"
   ]
  },
  {
   "cell_type": "code",
   "execution_count": null,
   "metadata": {},
   "outputs": [],
   "source": [
    "import torchvision\n",
    "\n",
    "g_ws_dir = '../_exp'  # The working directory\n",
    "\n",
    "mnist_train = torchvision.datasets.MNIST(g_ws_dir, train=True, download=True)\n",
    "mnist_test = torchvision.datasets.MNIST(g_ws_dir, train=False)"
   ]
  },
  {
   "cell_type": "code",
   "execution_count": null,
   "metadata": {},
   "outputs": [],
   "source": [
    "mnist_train.targets.shape\n"
   ]
  },
  {
   "cell_type": "code",
   "execution_count": null,
   "metadata": {},
   "outputs": [],
   "source": [
    "mnist_test.data.shape\n",
    "# mnist_train.data[0] / 255.0"
   ]
  },
  {
   "cell_type": "code",
   "execution_count": 5,
   "metadata": {},
   "outputs": [],
   "source": [
    "train_data = mnist_train.data[:55000] / 255.0\n",
    "train_targets = mnist_train.targets[:55000]\n",
    "val_data = mnist_train.data[55000:] / 255.0\n",
    "val_targets = mnist_train.targets[55000:]"
   ]
  },
  {
   "cell_type": "code",
   "execution_count": 6,
   "metadata": {},
   "outputs": [],
   "source": [
    "import torch\n",
    "from torch.utils.data import TensorDataset, DataLoader\n",
    "\n",
    "train_ds = TensorDataset(train_data.view(-1, 1, 28, 28), train_targets)\n",
    "val_ds = TensorDataset(val_data.view(-1, 1, 28, 28), val_targets)\n",
    "test_ds = TensorDataset(mnist_test.data.view(-1, 1, 28, 28) / 255.0, mnist_test.targets)"
   ]
  },
  {
   "cell_type": "code",
   "execution_count": null,
   "metadata": {},
   "outputs": [],
   "source": []
  },
  {
   "cell_type": "code",
   "execution_count": 7,
   "metadata": {},
   "outputs": [],
   "source": [
    "from torch.utils.data import DataLoader\n",
    "\n",
    "train_dataloader = DataLoader(train_ds, batch_size=128, shuffle=True)\n",
    "validate_dataloader = DataLoader(val_ds, batch_size=128)\n",
    "test_dataloader = DataLoader(test_ds, batch_size=128)"
   ]
  },
  {
   "cell_type": "code",
   "execution_count": 8,
   "metadata": {},
   "outputs": [],
   "source": [
    "import pytorch_lightning as pl\n",
    "\n",
    "class LitMNIST(pl.LightningModule):\n",
    "\n",
    "    def __init__(self):\n",
    "        super().__init__()\n",
    "        self.model = torch.nn.Sequential(\n",
    "            torch.nn.Conv2d(1, 32, 3), #in, out, kernel size\n",
    "            torch.nn.ReLU(),\n",
    "\n",
    "            torch.nn.Conv2d(32, 32, 3),\n",
    "            torch.nn.ReLU(),\n",
    "\n",
    "            torch.nn.MaxPool2d(2),\n",
    "            torch.nn.Dropout2d(0.25),\n",
    "\n",
    "            torch.nn.Flatten(),\n",
    "            torch.nn.Linear(12*12*32, 128), \n",
    "            torch.nn.ReLU(),\n",
    "            torch.nn.Dropout2d(0.5),\n",
    "\n",
    "            torch.nn.Linear(128, 10)\n",
    "        )\n",
    "    \n",
    "    def forward(self, x):\n",
    "        return self.model(x)\n",
    "    \n",
    "    def _common_step(self, batch, batch_idx):\n",
    "        x, y = batch\n",
    "        pred = self.model(x)\n",
    "        loss_fn = torch.nn.CrossEntropyLoss()\n",
    "        loss = loss_fn(pred, y)\n",
    "        return loss\n",
    "            \n",
    "    def training_step(self, batch, batch_idx):\n",
    "        loss = self._common_step(batch, batch_idx)\n",
    "        self.log('train_loss', loss)\n",
    "        return loss\n",
    "    \n",
    "    def configure_optimizers(self):\n",
    "        optimizer = torch.optim.Adam(self.model.parameters())\n",
    "        return optimizer\n",
    "    \n",
    "    def validation_step(self, batch, batch_idx):\n",
    "        loss = self._common_step(batch, batch_idx)\n",
    "        self.log('val_loss', loss)\n",
    "        \n",
    "    def test_step(self, batch, batch_idx):\n",
    "        x, y = batch\n",
    "        pred = self.model(x)\n",
    "        loss_fn = torch.nn.CrossEntropyLoss()\n",
    "        loss = loss_fn(pred, y)        \n",
    "        self.log('test_loss', loss)\n",
    "        acc = torch.argmax(pred, dim=1).eq(y).sum().item() / len(pred)\n",
    "        self.log('test_acc', acc)"
   ]
  },
  {
   "cell_type": "code",
   "execution_count": null,
   "metadata": {},
   "outputs": [],
   "source": [
    "mnist = LitMNIST()\n",
    "\n",
    "trainer = pl.Trainer(max_epochs=2, default_root_dir=g_ws_dir)\n",
    "trainer.fit(mnist, train_dataloader, validate_dataloader)"
   ]
  },
  {
   "cell_type": "code",
   "execution_count": null,
   "metadata": {},
   "outputs": [],
   "source": [
    "trainer.test(mnist, test_dataloader)"
   ]
  }
 ],
 "metadata": {
  "kernelspec": {
   "display_name": "Python 3",
   "language": "python",
   "name": "python3"
  },
  "language_info": {
   "codemirror_mode": {
    "name": "ipython",
    "version": 3
   },
   "file_extension": ".py",
   "mimetype": "text/x-python",
   "name": "python",
   "nbconvert_exporter": "python",
   "pygments_lexer": "ipython3",
   "version": "3.12.8"
  }
 },
 "nbformat": 4,
 "nbformat_minor": 2
}
