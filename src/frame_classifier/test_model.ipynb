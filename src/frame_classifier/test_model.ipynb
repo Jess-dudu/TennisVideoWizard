{
 "cells": [
  {
   "cell_type": "markdown",
   "metadata": {},
   "source": [
    "## Check GPU availability"
   ]
  },
  {
   "cell_type": "code",
   "execution_count": null,
   "metadata": {},
   "outputs": [],
   "source": [
    "## The usual imports\n",
    "import torch\n",
    "## print out the pytorch version used\n",
    "print(f\"torch version: {torch.__version__}, GPU support: {torch.cuda.is_available()}\")"
   ]
  },
  {
   "cell_type": "markdown",
   "metadata": {},
   "source": [
    "## Load Trained Model to Test"
   ]
  },
  {
   "cell_type": "code",
   "execution_count": 7,
   "metadata": {},
   "outputs": [],
   "source": [
    "import pytorch_lightning as pl\n",
    "from resnet_classifier import *\n",
    "\n",
    "exp_root = \"../../_exp/\"\n",
    "task_name = exp_root + \"ClassAB/\"\n",
    "num_classes = 2\n",
    "\n",
    "if (False):\n",
    "    task_name = exp_root + \"Dataset/\"\n",
    "    num_classes = 3\n",
    "\n",
    "model_name = task_name + \"/models/last-v1.ckpt\"\n",
    "model = ResNetClassifier.load_from_checkpoint(model_name, num_classes=num_classes, resnet_version=50, train_path=task_name+\"/train\", val_path=task_name+\"/val\", test_path=task_name+\"/test\")\n",
    "model.eval();"
   ]
  },
  {
   "cell_type": "code",
   "execution_count": null,
   "metadata": {},
   "outputs": [],
   "source": [
    "trainer = pl.Trainer() # (fast_dev_run=3)\n",
    "trainer.predict(model, model.test_dataloader());  # result (preds & gts) are stored in model.output_preds & output_gts"
   ]
  },
  {
   "cell_type": "code",
   "execution_count": null,
   "metadata": {},
   "outputs": [],
   "source": [
    "y_gts   = torch.cat(model.output_gts).detach().cpu()\n",
    "y_preds = torch.cat(model.output_preds).detach().cpu()\n",
    "\n",
    "# study confusion matrix\n",
    "y_hat  = torch.argmax(y_preds, dim=1)\n",
    "confmat = ConfusionMatrix(task = 'multiclass', num_classes=model.num_classes)\n",
    "print(confmat(y_hat, y_gts))\n"
   ]
  }
 ],
 "metadata": {
  "kernelspec": {
   "display_name": "Python 3",
   "language": "python",
   "name": "python3"
  },
  "language_info": {
   "codemirror_mode": {
    "name": "ipython",
    "version": 3
   },
   "file_extension": ".py",
   "mimetype": "text/x-python",
   "name": "python",
   "nbconvert_exporter": "python",
   "pygments_lexer": "ipython3",
   "version": "3.12.8"
  }
 },
 "nbformat": 4,
 "nbformat_minor": 2
}
