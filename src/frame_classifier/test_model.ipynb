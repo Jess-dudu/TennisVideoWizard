{
 "cells": [
  {
   "cell_type": "markdown",
   "metadata": {},
   "source": [
    "## Check GPU's availability"
   ]
  },
  {
   "cell_type": "code",
   "execution_count": null,
   "metadata": {},
   "outputs": [],
   "source": [
    "## The usual imports\n",
    "import torch\n",
    "## print out the pytorch version used\n",
    "print(f\"torch version: {torch.__version__}, GPU support: {torch.cuda.is_available()}\")"
   ]
  },
  {
   "cell_type": "markdown",
   "metadata": {},
   "source": [
    "## Load Trained Model to Test"
   ]
  },
  {
   "cell_type": "code",
   "execution_count": 2,
   "metadata": {},
   "outputs": [],
   "source": [
    "import pytorch_lightning as pl\n",
    "from torchmetrics.classification import ConfusionMatrix\n",
    "from resnet_classifier import *\n",
    "\n",
    "exp_root = \"../../_exp/\"\n",
    "task_name = exp_root + \"ClassAB/\"\n",
    "num_classes = 2\n",
    "ckpt_name = \"/models/last.ckpt\"  # Grayscale\n",
    "\n",
    "if (False): # testing anamal classification\n",
    "    task_name = exp_root + \"Dataset/\"\n",
    "    num_classes = 3\n",
    "    ckpt_name = \"/models/lightning_logs/version_2/checkpoints/epoch=9-step=650.ckpt\"\n",
    "\n",
    "model_name = task_name + ckpt_name\n",
    "model = ResNetClassifier.load_from_checkpoint(model_name, dataset_root=task_name)\n",
    "model.eval();"
   ]
  },
  {
   "cell_type": "code",
   "execution_count": null,
   "metadata": {},
   "outputs": [],
   "source": [
    "trainer = pl.Trainer(default_root_dir=task_name) # (fast_dev_run=3)\n",
    "# trainer.predict(model, model.test_dataloader());  # result (preds & gts) are stored in model.output_preds & output_gts\n",
    "trainer.test(model);"
   ]
  },
  {
   "cell_type": "markdown",
   "metadata": {},
   "source": [
    "## Detailed Study of Model's Classification Error"
   ]
  },
  {
   "cell_type": "code",
   "execution_count": null,
   "metadata": {},
   "outputs": [],
   "source": [
    "y_gts   = torch.cat(model.output_gts).detach().cpu()\n",
    "y_preds = torch.cat(model.output_preds).detach().cpu()\n",
    "\n",
    "# study confusion matrix\n",
    "y_hat  = torch.argmax(y_preds, dim=1)\n",
    "confmat = ConfusionMatrix(task = 'multiclass', num_classes=model.num_classes)\n",
    "print(confmat(y_hat, y_gts))"
   ]
  },
  {
   "cell_type": "code",
   "execution_count": null,
   "metadata": {},
   "outputs": [],
   "source": [
    "from utils import *\n",
    "\n",
    "testset = model.test_dataloader().dataset\n",
    "for cls_id in range(model.num_classes):\n",
    "    collect_error_cases(y_hat, y_gts, testset, cls_id, show=True)"
   ]
  },
  {
   "cell_type": "code",
   "execution_count": null,
   "metadata": {},
   "outputs": [],
   "source": [
    "testloader = model.test_dataloader()\n",
    "\n",
    "imgs, labels = next(iter(testloader))\n",
    "show_images(imgs, labels)"
   ]
  }
 ],
 "metadata": {
  "kernelspec": {
   "display_name": "Python 3",
   "language": "python",
   "name": "python3"
  },
  "language_info": {
   "codemirror_mode": {
    "name": "ipython",
    "version": 3
   },
   "file_extension": ".py",
   "mimetype": "text/x-python",
   "name": "python",
   "nbconvert_exporter": "python",
   "pygments_lexer": "ipython3",
   "version": "3.12.8"
  }
 },
 "nbformat": 4,
 "nbformat_minor": 2
}
